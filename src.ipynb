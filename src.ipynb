{
 "cells": [
  {
   "attachments": {},
   "cell_type": "markdown",
   "id": "df8f28b2",
   "metadata": {},
   "source": [
    "* Simon Cole\n",
    "* 4/11/2023\n",
    "* CS 455\n",
    "* Dr. Yoshigoe\n",
    "* Assignment 5\n",
    "\n",
    "# Summary\n",
    "1. First I imported the necessary libraries and the data\n",
    "2. I then split the data into training and testing sets\n",
    "3. I then created decision tree, knn and random forest models while evaluating their accuracy\n",
    "4. I then created and validated two voting classifiers, one with hard voting and one with soft voting\n",
    "5. I then created a bagging and pastig classifier and evaluated their accuracy\n",
    "6. I then created an adaboost classifier and evaluated its accuracy while finding optimal hyperparameters using grid search\n",
    "\n",
    "# References\n",
    "1. Dr. Yoshigoe's canvas course\n",
    "2. The book \"Hands-On Machine Learning with Scikit-Learn, Keras, and TensorFlow, 2nd Edition\" by Aurélien Géron\n",
    "3. Chat GPT was used for examples and the ssl line after imports\n"
   ]
  },
  {
   "attachments": {},
   "cell_type": "markdown",
   "id": "9d674f4c",
   "metadata": {},
   "source": [
    "Imports and loading the data"
   ]
  },
  {
   "cell_type": "code",
   "execution_count": 4,
   "id": "0f702935",
   "metadata": {},
   "outputs": [],
   "source": [
    "import ssl\n",
    "import numpy as np\n",
    "from sklearn.datasets import fetch_openml\n",
    "from sklearn.metrics import accuracy_score\n",
    "from sklearn.model_selection import train_test_split\n",
    "\n",
    "ssl._create_default_https_context = ssl._create_unverified_context\n",
    "\n",
    "# Load the dataset\n",
    "mnist = fetch_openml('mnist_784', version=1, as_frame=False)\n",
    "X, y = mnist[\"data\"], mnist[\"target\"]\n"
   ]
  },
  {
   "attachments": {},
   "cell_type": "markdown",
   "id": "4246c055",
   "metadata": {},
   "source": [
    "Split the dataset"
   ]
  },
  {
   "cell_type": "code",
   "execution_count": 16,
   "id": "c6ea1d13",
   "metadata": {},
   "outputs": [],
   "source": [
    "# Split the dataset into training and testing sets\n",
    "X_train, X_test, y_train, y_test = train_test_split(X, y, test_size=0.2, random_state=42)"
   ]
  },
  {
   "attachments": {},
   "cell_type": "markdown",
   "id": "cceb6829",
   "metadata": {},
   "source": [
    "Make, train, and test accurarcy of Decision Tree"
   ]
  },
  {
   "cell_type": "code",
   "execution_count": 6,
   "id": "29a1e18c",
   "metadata": {},
   "outputs": [
    {
     "name": "stdout",
     "output_type": "stream",
     "text": [
      "Decision tree accuracy: 0.8695\n"
     ]
    }
   ],
   "source": [
    "from sklearn.tree import DecisionTreeClassifier\n",
    "\n",
    "# Decision tree\n",
    "tree_clf = DecisionTreeClassifier(random_state=42)\n",
    "tree_clf.fit(X_train, y_train)\n",
    "y_pred_tree = tree_clf.predict(X_test)\n",
    "accuracy_tree = accuracy_score(y_test, y_pred_tree)\n",
    "print(\"Decision tree accuracy:\", accuracy_tree)\n"
   ]
  },
  {
   "attachments": {},
   "cell_type": "markdown",
   "id": "84967578",
   "metadata": {},
   "source": [
    "Make, train, and test accurarcy of Random Forest"
   ]
  },
  {
   "cell_type": "code",
   "execution_count": 11,
   "id": "ce0e2264",
   "metadata": {},
   "outputs": [
    {
     "name": "stdout",
     "output_type": "stream",
     "text": [
      "Random forest accuracy: 0.9672857142857143\n"
     ]
    }
   ],
   "source": [
    "from sklearn.ensemble import RandomForestClassifier\n",
    "\n",
    "# Random forest\n",
    "forest_clf = RandomForestClassifier(random_state=42)\n",
    "forest_clf.fit(X_train, y_train)\n",
    "y_pred_forest = forest_clf.predict(X_test)\n",
    "accuracy_forest = accuracy_score(y_test, y_pred_forest)\n",
    "print(\"Random forest accuracy:\", accuracy_forest)"
   ]
  },
  {
   "attachments": {},
   "cell_type": "markdown",
   "id": "9af7e8f0",
   "metadata": {},
   "source": [
    "Make, train, and test accurarcy of K Nearest Neighbors"
   ]
  },
  {
   "cell_type": "code",
   "execution_count": 12,
   "id": "b6e950e4",
   "metadata": {},
   "outputs": [
    {
     "name": "stdout",
     "output_type": "stream",
     "text": [
      "KNN accuracy: 0.9700714285714286\n"
     ]
    }
   ],
   "source": [
    "from sklearn.neighbors import KNeighborsClassifier\n",
    "\n",
    "# KNN\n",
    "knn_clf = KNeighborsClassifier()\n",
    "knn_clf.fit(X_train, y_train)\n",
    "y_pred_knn = knn_clf.predict(X_test)\n",
    "accuracy_knn = accuracy_score(y_test, y_pred_knn)\n",
    "print(\"KNN accuracy:\", accuracy_knn)\n"
   ]
  },
  {
   "attachments": {},
   "cell_type": "markdown",
   "id": "b1ab81b8",
   "metadata": {},
   "source": [
    "Make, train, and test accurarcy of the hard voting classifier"
   ]
  },
  {
   "cell_type": "code",
   "execution_count": 9,
   "id": "176bdb0b",
   "metadata": {},
   "outputs": [
    {
     "name": "stdout",
     "output_type": "stream",
     "text": [
      "Voting classifier (hard) accuracy: 0.9689285714285715\n"
     ]
    }
   ],
   "source": [
    "from sklearn.ensemble import VotingClassifier\n",
    "\n",
    "voting_clf_hard = VotingClassifier(\n",
    "    estimators=[('tree', tree_clf), ('forest', forest_clf), ('knn', knn_clf)],\n",
    "    voting='hard')\n",
    "voting_clf_hard.fit(X_train, y_train)\n",
    "y_pred_voting_hard = voting_clf_hard.predict(X_test)\n",
    "accuracy_voting_hard = accuracy_score(y_test, y_pred_voting_hard)\n",
    "print(\"Voting classifier (hard) accuracy:\", accuracy_voting_hard)\n"
   ]
  },
  {
   "attachments": {},
   "cell_type": "markdown",
   "id": "9191b059",
   "metadata": {},
   "source": [
    "Make, train, and test accurarcy of the soft voting classifier"
   ]
  },
  {
   "cell_type": "code",
   "execution_count": 10,
   "id": "b72ea390",
   "metadata": {},
   "outputs": [
    {
     "name": "stdout",
     "output_type": "stream",
     "text": [
      "Voting classifier (soft) accuracy: 0.959\n"
     ]
    }
   ],
   "source": [
    "\n",
    "voting_clf_soft = VotingClassifier(\n",
    "    estimators=[('tree', tree_clf), ('forest', forest_clf), ('knn', knn_clf)],\n",
    "    voting='soft')\n",
    "voting_clf_soft.fit(X_train, y_train)\n",
    "y_pred_voting_soft = voting_clf_soft.predict(X_test)\n",
    "accuracy_voting_soft = accuracy_score(y_test, y_pred_voting_soft)\n",
    "print(\"Voting classifier (soft) accuracy:\", accuracy_voting_soft)\n"
   ]
  },
  {
   "attachments": {},
   "cell_type": "markdown",
   "id": "616787e3",
   "metadata": {},
   "source": [
    "Make, train, and test accurarcy of Decision Tree with bagging"
   ]
  },
  {
   "cell_type": "code",
   "execution_count": 13,
   "id": "11dee13a",
   "metadata": {},
   "outputs": [
    {
     "name": "stdout",
     "output_type": "stream",
     "text": [
      "Decision Tree with Bagging accuracy: 0.8261428571428572\n"
     ]
    }
   ],
   "source": [
    "from sklearn.ensemble import BaggingClassifier\n",
    "\n",
    "bag_clf = BaggingClassifier(\n",
    "    DecisionTreeClassifier(random_state=42),\n",
    "    n_estimators=100,\n",
    "    max_samples=100,\n",
    "    bootstrap=True,\n",
    "    n_jobs=-1,\n",
    "    random_state=42\n",
    ")\n",
    "bag_clf.fit(X_train, y_train)\n",
    "y_pred_bag = bag_clf.predict(X_test)\n",
    "accuracy_bag = accuracy_score(y_test, y_pred_bag)\n",
    "print(\"Decision Tree with Bagging accuracy:\", accuracy_bag)"
   ]
  },
  {
   "attachments": {},
   "cell_type": "markdown",
   "id": "ccac2f0e",
   "metadata": {},
   "source": [
    "Make, train, and test accurarcy of Decision Tree with pasting"
   ]
  },
  {
   "cell_type": "code",
   "execution_count": 14,
   "id": "e357f933",
   "metadata": {},
   "outputs": [
    {
     "name": "stdout",
     "output_type": "stream",
     "text": [
      "Decision Tree with Pasting accuracy: 0.8263571428571429\n"
     ]
    }
   ],
   "source": [
    "paste_clf = BaggingClassifier(\n",
    "    DecisionTreeClassifier(random_state=42),\n",
    "    n_estimators=100,\n",
    "    max_samples=100,\n",
    "    bootstrap=False,\n",
    "    n_jobs=-1,\n",
    "    random_state=42\n",
    ")\n",
    "paste_clf.fit(X_train, y_train)\n",
    "y_pred_paste = paste_clf.predict(X_test)\n",
    "accuracy_paste = accuracy_score(y_test, y_pred_paste)\n",
    "print(\"Decision Tree with Pasting accuracy:\", accuracy_paste)\n"
   ]
  },
  {
   "attachments": {},
   "cell_type": "markdown",
   "id": "ed9a9e2b",
   "metadata": {},
   "source": [
    "Make, train, and test accurarcy of the AdaBoost classifier\n",
    "Also employ grid search to find the best hyperparameters"
   ]
  },
  {
   "cell_type": "code",
   "execution_count": 15,
   "id": "aa38e8fb",
   "metadata": {},
   "outputs": [
    {
     "name": "stdout",
     "output_type": "stream",
     "text": [
      "Best parameters: {'learning_rate': 0.1, 'n_estimators': 200}\n",
      "Best accuracy score: 0.7974107492336667\n",
      "AdaBoost classifier accuracy: 0.7992142857142858\n"
     ]
    }
   ],
   "source": [
    "from sklearn.ensemble import AdaBoostClassifier\n",
    "from sklearn.model_selection import GridSearchCV\n",
    "\n",
    "ada_clf = AdaBoostClassifier(random_state=42)\n",
    "param_grid = {\n",
    "    'n_estimators': [50, 100, 200],\n",
    "    'learning_rate': [0.01, 0.1, 1.0]\n",
    "}\n",
    "grid_search = GridSearchCV(ada_clf, param_grid, cv=3, scoring='accuracy', n_jobs=-1)\n",
    "grid_search.fit(X_train, y_train)\n",
    "\n",
    "best_params = grid_search.best_params_\n",
    "best_score = grid_search.best_score_\n",
    "print(\"Best parameters:\", best_params)\n",
    "print(\"Best accuracy score:\", best_score)\n",
    "\n",
    "best_ada_clf = grid_search.best_estimator_\n",
    "y_pred_ada = best_ada_clf.predict(X_test)\n",
    "accuracy_ada = accuracy_score(y_test, y_pred_ada)\n",
    "print(\"AdaBoost classifier accuracy:\", accuracy_ada)\n"
   ]
  }
 ],
 "metadata": {
  "kernelspec": {
   "display_name": "Python 3",
   "language": "python",
   "name": "python3"
  },
  "language_info": {
   "codemirror_mode": {
    "name": "ipython",
    "version": 3
   },
   "file_extension": ".py",
   "mimetype": "text/x-python",
   "name": "python",
   "nbconvert_exporter": "python",
   "pygments_lexer": "ipython3",
   "version": "3.8.5"
  },
  "vscode": {
   "interpreter": {
    "hash": "aee8b7b246df8f9039afb4144a1f6fd8d2ca17a180786b69acc140d282b71a49"
   }
  }
 },
 "nbformat": 4,
 "nbformat_minor": 5
}
